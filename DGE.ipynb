{
 "cells": [
  {
   "cell_type": "code",
   "execution_count": null,
   "id": "934277d4",
   "metadata": {},
   "outputs": [],
   "source": [
    "import numpy as np\n",
    "import matplotlib.pyplot as plt"
   ]
  },
  {
   "cell_type": "code",
   "execution_count": null,
   "id": "3267dc07",
   "metadata": {},
   "outputs": [],
   "source": [
    "# (a)\n",
    "\n",
    "# parameters\n",
    "alpha = 0.33\n",
    "beta = 0.95\n",
    "delta = 0.025\n",
    "gamma = 2\n",
    "K = 250\n",
    "\n",
    "# steady state capital\n",
    "k_ss = ((1/(alpha*beta)) - (1-delta)/alpha)**(1/(alpha-1)) # formulation derived in text document\n",
    "print('k_ss:', k_ss)\n",
    "\n",
    "# capital grid\n",
    "k_grid = (np.linspace(0.01*k_ss, 2*k_ss, K))\n",
    "V_guess = (np.zeros(K))"
   ]
  },
  {
   "cell_type": "code",
   "execution_count": null,
   "id": "66d83f4d",
   "metadata": {},
   "outputs": [],
   "source": [
    "# (b)\n",
    "\n",
    "def value_iteration(initial_guess, k_grid, alpha, beta, delta, gamma):\n",
    "    \n",
    "    V_next = (np.zeros(len(k_grid))) # to store updates to value function\n",
    "    g = (np.zeros(len(k_grid))) # to store indices of the next capital on k_grid\n",
    "    \n",
    "    for initial_k_index in range(len(k_grid)):\n",
    "        initial_k = k_grid[initial_k_index]\n",
    "        max_value = -np.inf #initial benchmark to get updated\n",
    "\n",
    "        for next_k_index in range(len(k_grid)):\n",
    "            \n",
    "            next_k = k_grid[next_k_index]\n",
    "\n",
    "            consumption = max(0, initial_k**alpha + (1-delta)*initial_k - next_k)\n",
    "            if consumption > 0:\n",
    "                overall_value = ((consumption**(1-gamma))/(1-gamma)) + beta*initial_guess[next_k_index]\n",
    "            else:\n",
    "                overall_value = -np.inf\n",
    "\n",
    "            if overall_value > max_value:\n",
    "                max_value = overall_value\n",
    "                V_next[initial_k_index] = max_value\n",
    "                g[initial_k_index] = next_k_index\n",
    "            else:\n",
    "                pass\n",
    "\n",
    "        \n",
    "    return V_next, g"
   ]
  },
  {
   "cell_type": "code",
   "execution_count": null,
   "id": "a215d12c",
   "metadata": {},
   "outputs": [],
   "source": [
    "# (c)\n",
    "\n",
    "cutoff = 10**(-11)\n",
    "V_next = value_iteration(V_guess, k_grid, 0.33, 0.95, 0.025, 2)[0]\n",
    "while np.linalg.norm(V_next - V_guess) >= cutoff:\n",
    "    V_guess = V_next\n",
    "    V_next = value_iteration(V_guess, k_grid, 0.33, 0.95, 0.025, 2)[0]"
   ]
  },
  {
   "cell_type": "code",
   "execution_count": null,
   "id": "348771ff",
   "metadata": {},
   "outputs": [],
   "source": [
    "# (d)\n",
    "\n",
    "value_function, policy_indices = value_iteration(V_guess, k_grid, 0.33, 0.95, 0.025, 2)\n",
    "policy_indices = policy_indices.astype(int)\n",
    "plt.figure(figsize=(10, 6))\n",
    "plt.plot(k_grid, value_function, label='value function', color='blue')  \n",
    "\n",
    "plt.xlabel('initial capital')\n",
    "plt.ylabel('value function')\n",
    "plt.title('value function')\n",
    "plt.axhline(0, color='black', linewidth=0.5, ls='--')  \n",
    "plt.axvline(0, color='black', linewidth=0.5, ls='--')  \n",
    "plt.grid()\n",
    "plt.legend()\n",
    "plt.show()"
   ]
  },
  {
   "cell_type": "code",
   "execution_count": null,
   "id": "9f1a60aa",
   "metadata": {},
   "outputs": [],
   "source": [
    "# (e)\n",
    "\n",
    "policy_function = [k_grid[index] for index in policy_indices.astype(int)]\n",
    "\n",
    "# 45-degree line for reference\n",
    "line_x = np.linspace(0, max(k_grid), 100)\n",
    "line_y = line_x  # y = x for 45-degree line\n",
    "\n",
    "plt.figure(figsize=(10, 6))\n",
    "plt.plot(k_grid, policy_function, label='policy function', color='blue')  \n",
    "plt.plot(line_x, line_y, color='red', linestyle='--', label='45-Degree Line')\n",
    "\n",
    "plt.xlabel('initial capital')\n",
    "plt.ylabel('next_capital (policy function)')\n",
    "plt.title('policy function')\n",
    "plt.axhline(0, color='black', linewidth=0.5, ls='--')  \n",
    "plt.axvline(0, color='black', linewidth=0.5, ls='--')  \n",
    "plt.grid()\n",
    "plt.legend()\n",
    "plt.show()"
   ]
  },
  {
   "cell_type": "code",
   "execution_count": null,
   "id": "910a90d7",
   "metadata": {},
   "outputs": [],
   "source": [
    "# (f)\n",
    "\n",
    "# initializing the paths for each as zeros, which will get updated with the policy function\n",
    "path_1 = np.zeros(100)\n",
    "path_1[0] = k_grid[0]\n",
    "\n",
    "path_K = np.zeros(100)\n",
    "path_K[0] = k_grid[-1]\n",
    "\n",
    "for t in range(len(path_1)-1):\n",
    "    k_grid_index1 = int(list(k_grid).index(path_1[t]))\n",
    "    path_1[t+1] = k_grid[policy_indices[k_grid_index1]]\n",
    "    \n",
    "    k_grid_indexK = int(list(k_grid).index(path_K[t]))\n",
    "    path_K[t+1] = k_grid[policy_indices[k_grid_indexK]]"
   ]
  },
  {
   "cell_type": "code",
   "execution_count": null,
   "id": "59ceb21e",
   "metadata": {},
   "outputs": [],
   "source": [
    "# (g)\n",
    "\n",
    "path_1_consumption = [path_1[t]**alpha + (1-delta)*path_1[t] - path_1[t+1] for t in range(len(path_1)-1)]\n",
    "path_K_consumption = [path_K[t]**alpha + (1-delta)*path_K[t] - path_K[t+1] for t in range(len(path_K)-1)]"
   ]
  },
  {
   "cell_type": "code",
   "execution_count": null,
   "id": "f7b6c3fb",
   "metadata": {},
   "outputs": [],
   "source": [
    "plt.figure(figsize=(10, 6))\n",
    "plt.plot(path_1[:-1], path_1_consumption, label='path_1', color='blue')  \n",
    "plt.plot(path_K[:-1], path_K_consumption, label='path_K', color='red') \n",
    "\n",
    "\n",
    "plt.xlabel('capital')\n",
    "plt.ylabel('consumption')\n",
    "plt.title('Phase diagram')\n",
    "plt.axhline(0, color='black', linewidth=0.5, ls='--')  \n",
    "plt.axvline(0, color='black', linewidth=0.5, ls='--')  \n",
    "plt.grid()\n",
    "plt.legend()\n",
    "plt.show()"
   ]
  }
 ],
 "metadata": {
  "kernelspec": {
   "display_name": "Python 3",
   "language": "python",
   "name": "python3"
  },
  "language_info": {
   "codemirror_mode": {
    "name": "ipython",
    "version": 3
   },
   "file_extension": ".py",
   "mimetype": "text/x-python",
   "name": "python",
   "nbconvert_exporter": "python",
   "pygments_lexer": "ipython3",
   "version": "3.8.8"
  }
 },
 "nbformat": 4,
 "nbformat_minor": 5
}
